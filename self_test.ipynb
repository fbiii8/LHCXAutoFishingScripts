{
 "cells": [
  {
   "cell_type": "code",
   "execution_count": 37,
   "metadata": {},
   "outputs": [],
   "source": [
    "from common.AutoAdb import AutoAdb\n",
    "import time\n",
    "\n",
    "from common import PathUtils\n",
    "from common.Location import Location\n",
    "from bin.StartFish import StartFish\n",
    "# 选择关卡stage\n",
    "from common.Timer import Timer"
   ]
  },
  {
   "cell_type": "code",
   "execution_count": 38,
   "metadata": {},
   "outputs": [
    {
     "name": "stdout",
     "output_type": "stream",
     "text": [
      "ADB PATH >>>> d:/learn/lhcx-rpg/adb/adb.exe\n",
      "检测设备连接状态 >>> 127.0.0.1:7555 ...\n",
      "\n",
      "设备列表：\n",
      "127.0.0.1:7555\tdevice\n",
      "\n",
      "设备已连接\n",
      "\n",
      "屏幕分辨率: Physical size: 1280x720\n",
      "像素密度: Physical density: 240\n",
      "系统类型: x86\n",
      "系统版本: 6.0.1\n",
      "\n"
     ]
    }
   ],
   "source": [
    "AutoAdb(test_device=True)\n",
    "adb = AutoAdb()"
   ]
  },
  {
   "cell_type": "code",
   "execution_count": 39,
   "metadata": {},
   "outputs": [],
   "source": [
    "adb.screen_cap()"
   ]
  },
  {
   "cell_type": "code",
   "execution_count": null,
   "metadata": {},
   "outputs": [],
   "source": [
    "1091 56, 1244 170"
   ]
  },
  {
   "cell_type": "code",
   "execution_count": 45,
   "metadata": {},
   "outputs": [
    {
     "name": "stdout",
     "output_type": "stream",
     "text": [
      "True\n",
      "True\n",
      "False\n",
      "False\n",
      "False\n",
      "False\n",
      "False\n",
      "False\n",
      "False\n",
      "False\n",
      "False\n",
      "False\n",
      "False\n",
      "False\n",
      "False\n",
      "False\n",
      "False\n",
      "False\n",
      "False\n",
      "False\n",
      "False\n",
      "False\n",
      "False\n",
      "False\n",
      "False\n",
      "False\n",
      "False\n",
      "False\n",
      "False\n",
      "False\n",
      "False\n",
      "True\n"
     ]
    }
   ],
   "source": [
    "from turtle import circle\n",
    "\n",
    "\n",
    "for i in range(16):\n",
    "    print(adb.check('temp_images/state/state'+str(i)+'.PNG', 0.8))\n",
    "    cir= i+1\n",
    "    if cir == 15:\n",
    "        cir = cir % 15\n",
    "    print(adb.check('temp_images/state/state'+str(cir)+'.PNG', 0.8))"
   ]
  },
  {
   "cell_type": "code",
   "execution_count": 15,
   "metadata": {},
   "outputs": [
    {
     "data": {
      "text/plain": [
       "True"
      ]
     },
     "execution_count": 15,
     "metadata": {},
     "output_type": "execute_result"
    }
   ],
   "source": [
    "adb.click('temp_images/daily/main_fight.PNG', 0.65)"
   ]
  },
  {
   "cell_type": "code",
   "execution_count": 35,
   "metadata": {},
   "outputs": [
    {
     "data": {
      "text/plain": [
       "True"
      ]
     },
     "execution_count": 35,
     "metadata": {},
     "output_type": "execute_result"
    }
   ],
   "source": [
    "adb.click('temp_images/daily/home.PNG', 0.65)"
   ]
  },
  {
   "cell_type": "code",
   "execution_count": 34,
   "metadata": {},
   "outputs": [],
   "source": [
    "# swipe find home（left）\n",
    "adb.swipe(500, 360,1200, 360, duration=800)"
   ]
  },
  {
   "cell_type": "code",
   "execution_count": null,
   "metadata": {},
   "outputs": [],
   "source": []
  },
  {
   "cell_type": "code",
   "execution_count": 20,
   "metadata": {},
   "outputs": [
    {
     "data": {
      "text/plain": [
       "True"
      ]
     },
     "execution_count": 20,
     "metadata": {},
     "output_type": "execute_result"
    }
   ],
   "source": [
    "loc = Location(adb, None,640, 360)\n",
    "loc.click()"
   ]
  },
  {
   "cell_type": "code",
   "execution_count": 8,
   "metadata": {},
   "outputs": [],
   "source": [
    "RPG_map = [[1,2,3],\n",
    "            [4, 5, 6]]"
   ]
  },
  {
   "cell_type": "code",
   "execution_count": 9,
   "metadata": {},
   "outputs": [
    {
     "name": "stdout",
     "output_type": "stream",
     "text": [
      "1\n",
      "2\n",
      "3\n",
      "4\n",
      "5\n",
      "6\n"
     ]
    }
   ],
   "source": [
    "for i in RPG_map:\n",
    "    for k in i:\n",
    "        print(k)"
   ]
  },
  {
   "cell_type": "code",
   "execution_count": 7,
   "metadata": {},
   "outputs": [
    {
     "data": {
      "text/plain": [
       "False"
      ]
     },
     "execution_count": 7,
     "metadata": {},
     "output_type": "execute_result"
    }
   ],
   "source": [
    "adb.check(\"screen.png\")"
   ]
  },
  {
   "cell_type": "code",
   "execution_count": 10,
   "metadata": {},
   "outputs": [
    {
     "data": {
      "text/plain": [
       "True"
      ]
     },
     "execution_count": 10,
     "metadata": {},
     "output_type": "execute_result"
    }
   ],
   "source": [
    "adb.click('temp_images/start2.png')"
   ]
  },
  {
   "cell_type": "code",
   "execution_count": 3,
   "metadata": {},
   "outputs": [],
   "source": [
    "work_dir = PathUtils.get_work_dir()\n",
    "fishing_image_path = '/temp_images/screen_fish.jpg'"
   ]
  },
  {
   "cell_type": "code",
   "execution_count": 5,
   "metadata": {},
   "outputs": [
    {
     "name": "stdout",
     "output_type": "stream",
     "text": [
      "1342 799\n",
      "向左运动\n",
      "1518 806\n",
      "向左运动\n",
      "1632 825\n",
      "向左运动\n",
      "1731 832\n",
      "向左运动\n",
      "1767 842\n",
      "向左运动\n",
      "1767 842\n",
      "向左运动\n",
      "1767 842\n",
      "向右运动\n",
      "1424 982\n",
      "向左运动\n",
      "1360 1028\n",
      "向左运动\n",
      "1312 1051\n",
      "向左运动\n",
      "1286 1064\n",
      "向左运动\n",
      "1280 1068\n",
      "向左运动\n",
      "1280 1068\n",
      "向左运动\n",
      "1280 1068\n",
      "向左运动\n",
      "1280 1068\n",
      "向左运动\n",
      "1280 1068\n",
      "向左运动\n",
      "1280 1068\n",
      "向左运动\n",
      "1280 1068\n",
      "向左运动\n",
      "1280 1068\n",
      "向左运动\n",
      "1280 1068\n",
      "向左运动\n",
      "1280 1068\n",
      "向左运动\n",
      "1294 1020\n",
      "向左运动\n",
      "1315 968\n",
      "向左运动\n",
      "1321 953\n",
      "向左运动\n",
      "1321 953\n",
      "向左运动\n",
      "1321 953\n",
      "向左运动\n",
      "1321 953\n",
      "向左运动\n",
      "1321 953\n",
      "向左运动\n",
      "1321 953\n",
      "向左运动\n",
      "1321 953\n",
      "向左运动\n",
      "1321 953\n",
      "向左运动\n",
      "1321 953\n",
      "向左运动\n",
      "1321 953\n",
      "向左运动\n",
      "1321 953\n",
      "向左运动\n",
      "1321 953\n",
      "向左运动\n",
      "1321 953\n",
      "向左运动\n",
      "1321 953\n",
      "向左运动\n",
      "1321 953\n",
      "向左运动\n",
      "1321 953\n",
      "向左运动\n",
      "1321 953\n",
      "向左运动\n",
      "1321 953\n",
      "向左运动\n",
      "1321 953\n",
      "向左运动\n",
      "1321 953\n",
      "向左运动\n",
      "1321 953\n",
      "向左运动\n",
      "1321 953\n",
      "向左运动\n",
      "1321 953\n",
      "向左运动\n",
      "1321 953\n",
      "向左运动\n",
      "1321 953\n",
      "向左运动\n",
      "1321 953\n",
      "向左运动\n",
      "1321 953\n",
      "向左运动\n",
      "1321 953\n",
      "向左运动\n",
      "1321 953\n",
      "向左运动\n",
      "1321 953\n",
      "向左运动\n",
      "1321 953\n",
      "向左运动\n",
      "1321 953\n",
      "向左运动\n",
      "1321 953\n",
      "向左运动\n",
      "1321 953\n",
      "向左运动\n",
      "1321 953\n",
      "向左运动\n",
      "1321 953\n",
      "向左运动\n",
      "1321 953\n",
      "向左运动\n",
      "1321 953\n",
      "向左运动\n",
      "1321 953\n",
      "向左运动\n",
      "1321 953\n",
      "向左运动\n",
      "1321 953\n",
      "向左运动\n",
      "1321 953\n",
      "向左运动\n",
      "1321 953\n",
      "向左运动\n",
      "1321 953\n",
      "向左运动\n",
      "1321 953\n",
      "向左运动\n",
      "1321 953\n",
      "向左运动\n",
      "1321 953\n",
      "向左运动\n",
      "1321 953\n",
      "向左运动\n",
      "1321 953\n",
      "向左运动\n",
      "1321 953\n",
      "向左运动\n",
      "1321 953\n",
      "向左运动\n",
      "1321 953\n",
      "向左运动\n",
      "1321 953\n",
      "向左运动\n",
      "1321 953\n",
      "向左运动\n",
      "1321 953\n",
      "向左运动\n",
      "1321 953\n",
      "向左运动\n",
      "1321 953\n",
      "向左运动\n",
      "1321 953\n",
      "向左运动\n",
      "1321 953\n",
      "向左运动\n",
      "1321 953\n",
      "向左运动\n",
      "1321 953\n",
      "向右运动\n",
      "1321 953\n",
      "向左运动\n",
      "1321 953\n",
      "向左运动\n",
      "1321 953\n",
      "向右运动\n",
      "1321 953\n",
      "向左运动\n",
      "1321 953\n",
      "向左运动\n",
      "1321 953\n",
      "向左运动\n",
      "1321 953\n",
      "向右运动\n",
      "1321 953\n",
      "向右运动\n",
      "1321 953\n",
      "向左运动\n",
      "1321 953\n",
      "向左运动\n",
      "1321 953\n",
      "向左运动\n",
      "1321 953\n",
      "向左运动\n",
      "1321 953\n",
      "向左运动\n",
      "1321 953\n",
      "向左运动\n",
      "1321 953\n",
      "向左运动\n",
      "1321 953\n",
      "向左运动\n",
      "1321 953\n",
      "向左运动\n",
      "1321 953\n",
      "向左运动\n",
      "1321 953\n",
      "向左运动\n",
      "1321 953\n",
      "向左运动\n",
      "1321 953\n",
      "向左运动\n",
      "1321 953\n",
      "向左运动\n",
      "1321 953\n",
      "向左运动\n",
      "1321 953\n",
      "向右运动\n",
      "1321 953\n",
      "向左运动\n",
      "1321 953\n",
      "向左运动\n",
      "1321 953\n",
      "向右运动\n",
      "1321 953\n",
      "向左运动\n",
      "1321 953\n",
      "向右运动\n",
      "1320 953\n",
      "向右运动\n",
      "1318 954\n",
      "向左运动\n",
      "1317 954\n",
      "向左运动\n",
      "1317 954\n",
      "向左运动\n",
      "1317 954\n",
      "向左运动\n",
      "1317 954\n",
      "向右运动\n",
      "1317 954\n",
      "向左运动\n",
      "1317 954\n",
      "向左运动\n",
      "1317 954\n",
      "向左运动\n",
      "1317 954\n",
      "向左运动\n",
      "1317 954\n",
      "向左运动\n",
      "1315 955\n",
      "向左运动\n",
      "1315 955\n",
      "向左运动\n",
      "1315 955\n",
      "向左运动\n",
      "1315 955\n",
      "向右运动\n",
      "1315 955\n",
      "向右运动\n",
      "1315 955\n",
      "向右运动\n",
      "1315 955\n",
      "向右运动\n",
      "1315 955\n",
      "向右运动\n",
      "1315 955\n",
      "向右运动\n",
      "1315 955\n",
      "向左运动\n",
      "1315 955\n",
      "向左运动\n",
      "1315 955\n",
      "向左运动\n",
      "1315 955\n",
      "向右运动\n",
      "1315 955\n",
      "向右运动\n",
      "1261 973\n",
      "向左运动\n",
      "1261 973\n",
      "向左运动\n",
      "1261 973\n",
      "向左运动\n",
      "1261 973\n",
      "向右运动\n",
      "1261 973\n",
      "向左运动\n",
      "1261 973\n",
      "向左运动\n",
      "1261 973\n",
      "向右运动\n",
      "1261 974\n",
      "向左运动\n",
      "1261 974\n",
      "向左运动\n",
      "1261 974\n",
      "向左运动\n",
      "1261 974\n",
      "向左运动\n",
      "1261 974\n",
      "向左运动\n",
      "1261 974\n",
      "向左运动\n",
      "1261 974\n",
      "向左运动\n",
      "1261 974\n",
      "向左运动\n",
      "1261 974\n",
      "向左运动\n",
      "1261 974\n",
      "向左运动\n",
      "1261 974\n",
      "向左运动\n",
      "1261 974\n",
      "向左运动\n",
      "1261 974\n",
      "向左运动\n",
      "1261 974\n",
      "向左运动\n",
      "1261 974\n",
      "向右运动\n",
      "1261 974\n",
      "向左运动\n",
      "1261 974\n",
      "向左运动\n",
      "1261 974\n",
      "向左运动\n",
      "1261 974\n",
      "向左运动\n",
      "1261 974\n",
      "向左运动\n",
      "1261 974\n",
      "向右运动\n"
     ]
    },
    {
     "ename": "FailSafeException",
     "evalue": "PyAutoGUI fail-safe triggered from mouse moving to a corner of the screen. To disable this fail-safe, set pyautogui.FAILSAFE to False. DISABLING FAIL-SAFE IS NOT RECOMMENDED.",
     "output_type": "error",
     "traceback": [
      "\u001b[1;31m---------------------------------------------------------------------------\u001b[0m",
      "\u001b[1;31mFailSafeException\u001b[0m                         Traceback (most recent call last)",
      "\u001b[1;32m~\\AppData\\Local\\Temp\\ipykernel_7204\\1018346970.py\u001b[0m in \u001b[0;36m<module>\u001b[1;34m\u001b[0m\n\u001b[0;32m      8\u001b[0m         \u001b[0mStartFish\u001b[0m\u001b[1;33m.\u001b[0m\u001b[0mwindow_capture\u001b[0m\u001b[1;33m(\u001b[0m\u001b[0mwork_dir\u001b[0m\u001b[1;33m+\u001b[0m\u001b[0mfishing_image_path\u001b[0m\u001b[1;33m)\u001b[0m\u001b[1;33m\u001b[0m\u001b[1;33m\u001b[0m\u001b[0m\n\u001b[0;32m      9\u001b[0m         \u001b[0mx\u001b[0m\u001b[1;33m,\u001b[0m \u001b[0my\u001b[0m \u001b[1;33m=\u001b[0m \u001b[0mStartFish\u001b[0m\u001b[1;33m.\u001b[0m\u001b[0mget_position\u001b[0m\u001b[1;33m(\u001b[0m\u001b[0mwork_dir\u001b[0m\u001b[1;33m+\u001b[0m\u001b[0mfishing_image_path\u001b[0m\u001b[1;33m)\u001b[0m\u001b[1;33m\u001b[0m\u001b[1;33m\u001b[0m\u001b[0m\n\u001b[1;32m---> 10\u001b[1;33m         \u001b[0mring\u001b[0m \u001b[1;33m=\u001b[0m \u001b[0mStartFish\u001b[0m\u001b[1;33m.\u001b[0m\u001b[0mStage\u001b[0m\u001b[1;33m(\u001b[0m\u001b[0mx\u001b[0m\u001b[1;33m,\u001b[0m \u001b[0my\u001b[0m\u001b[1;33m)\u001b[0m\u001b[1;33m\u001b[0m\u001b[1;33m\u001b[0m\u001b[0m\n\u001b[0m\u001b[0;32m     11\u001b[0m         \u001b[1;32mif\u001b[0m \u001b[0mring\u001b[0m\u001b[1;33m:\u001b[0m\u001b[1;33m\u001b[0m\u001b[1;33m\u001b[0m\u001b[0m\n\u001b[0;32m     12\u001b[0m             \u001b[0madb\u001b[0m\u001b[1;33m.\u001b[0m\u001b[0mswipe\u001b[0m\u001b[1;33m(\u001b[0m\u001b[1;36m600\u001b[0m\u001b[1;33m,\u001b[0m \u001b[1;36m600\u001b[0m\u001b[1;33m,\u001b[0m \u001b[1;36m800\u001b[0m\u001b[1;33m,\u001b[0m \u001b[1;36m600\u001b[0m\u001b[1;33m,\u001b[0m \u001b[1;36m700\u001b[0m\u001b[1;33m)\u001b[0m\u001b[1;33m\u001b[0m\u001b[1;33m\u001b[0m\u001b[0m\n",
      "\u001b[1;32md:\\learn\\lhcx\\bin\\StartFish.py\u001b[0m in \u001b[0;36mStage\u001b[1;34m(region, fish, during_time)\u001b[0m\n\u001b[0;32m     64\u001b[0m \u001b[1;33m\u001b[0m\u001b[0m\n\u001b[0;32m     65\u001b[0m         \u001b[0mcurrentMouseX\u001b[0m\u001b[1;33m,\u001b[0m \u001b[0mcurrentMouseY\u001b[0m \u001b[1;33m=\u001b[0m \u001b[0mpyautogui\u001b[0m\u001b[1;33m.\u001b[0m\u001b[0mposition\u001b[0m\u001b[1;33m(\u001b[0m\u001b[1;33m)\u001b[0m \u001b[1;31m# 鼠标当前位置\u001b[0m\u001b[1;33m\u001b[0m\u001b[1;33m\u001b[0m\u001b[0m\n\u001b[1;32m---> 66\u001b[1;33m         \u001b[0mpyautogui\u001b[0m\u001b[1;33m.\u001b[0m\u001b[0mmoveTo\u001b[0m\u001b[1;33m(\u001b[0m\u001b[1;36m1000\u001b[0m\u001b[1;33m,\u001b[0m \u001b[1;36m1000\u001b[0m\u001b[1;33m,\u001b[0m \u001b[0mduration\u001b[0m\u001b[1;33m=\u001b[0m\u001b[1;36m0.001\u001b[0m\u001b[1;33m)\u001b[0m\u001b[1;33m\u001b[0m\u001b[1;33m\u001b[0m\u001b[0m\n\u001b[0m\u001b[0;32m     67\u001b[0m         \u001b[0mprint\u001b[0m\u001b[1;33m(\u001b[0m\u001b[0mcurrentMouseX\u001b[0m\u001b[1;33m,\u001b[0m \u001b[0mcurrentMouseY\u001b[0m\u001b[1;33m)\u001b[0m\u001b[1;33m\u001b[0m\u001b[1;33m\u001b[0m\u001b[0m\n\u001b[0;32m     68\u001b[0m         \u001b[1;31m# 长点屏幕\u001b[0m\u001b[1;33m\u001b[0m\u001b[1;33m\u001b[0m\u001b[1;33m\u001b[0m\u001b[0m\n",
      "\u001b[1;32md:\\anaconda\\envs\\tf27\\lib\\site-packages\\pyautogui\\__init__.py\u001b[0m in \u001b[0;36mwrapper\u001b[1;34m(*args, **kwargs)\u001b[0m\n\u001b[0;32m    595\u001b[0m     \u001b[1;33m@\u001b[0m\u001b[0mfunctools\u001b[0m\u001b[1;33m.\u001b[0m\u001b[0mwraps\u001b[0m\u001b[1;33m(\u001b[0m\u001b[0mwrappedFunction\u001b[0m\u001b[1;33m)\u001b[0m\u001b[1;33m\u001b[0m\u001b[1;33m\u001b[0m\u001b[0m\n\u001b[0;32m    596\u001b[0m     \u001b[1;32mdef\u001b[0m \u001b[0mwrapper\u001b[0m\u001b[1;33m(\u001b[0m\u001b[1;33m*\u001b[0m\u001b[0margs\u001b[0m\u001b[1;33m,\u001b[0m \u001b[1;33m**\u001b[0m\u001b[0mkwargs\u001b[0m\u001b[1;33m)\u001b[0m\u001b[1;33m:\u001b[0m\u001b[1;33m\u001b[0m\u001b[1;33m\u001b[0m\u001b[0m\n\u001b[1;32m--> 597\u001b[1;33m         \u001b[0mfailSafeCheck\u001b[0m\u001b[1;33m(\u001b[0m\u001b[1;33m)\u001b[0m\u001b[1;33m\u001b[0m\u001b[1;33m\u001b[0m\u001b[0m\n\u001b[0m\u001b[0;32m    598\u001b[0m         \u001b[0mreturnVal\u001b[0m \u001b[1;33m=\u001b[0m \u001b[0mwrappedFunction\u001b[0m\u001b[1;33m(\u001b[0m\u001b[1;33m*\u001b[0m\u001b[0margs\u001b[0m\u001b[1;33m,\u001b[0m \u001b[1;33m**\u001b[0m\u001b[0mkwargs\u001b[0m\u001b[1;33m)\u001b[0m\u001b[1;33m\u001b[0m\u001b[1;33m\u001b[0m\u001b[0m\n\u001b[0;32m    599\u001b[0m         \u001b[0m_handlePause\u001b[0m\u001b[1;33m(\u001b[0m\u001b[0mkwargs\u001b[0m\u001b[1;33m.\u001b[0m\u001b[0mget\u001b[0m\u001b[1;33m(\u001b[0m\u001b[1;34m\"_pause\"\u001b[0m\u001b[1;33m,\u001b[0m \u001b[1;32mTrue\u001b[0m\u001b[1;33m)\u001b[0m\u001b[1;33m)\u001b[0m\u001b[1;33m\u001b[0m\u001b[1;33m\u001b[0m\u001b[0m\n",
      "\u001b[1;32md:\\anaconda\\envs\\tf27\\lib\\site-packages\\pyautogui\\__init__.py\u001b[0m in \u001b[0;36mfailSafeCheck\u001b[1;34m()\u001b[0m\n\u001b[0;32m   1721\u001b[0m     \u001b[1;32mif\u001b[0m \u001b[0mFAILSAFE\u001b[0m \u001b[1;32mand\u001b[0m \u001b[0mtuple\u001b[0m\u001b[1;33m(\u001b[0m\u001b[0mposition\u001b[0m\u001b[1;33m(\u001b[0m\u001b[1;33m)\u001b[0m\u001b[1;33m)\u001b[0m \u001b[1;32min\u001b[0m \u001b[0mFAILSAFE_POINTS\u001b[0m\u001b[1;33m:\u001b[0m\u001b[1;33m\u001b[0m\u001b[1;33m\u001b[0m\u001b[0m\n\u001b[0;32m   1722\u001b[0m         raise FailSafeException(\n\u001b[1;32m-> 1723\u001b[1;33m             \u001b[1;34m\"PyAutoGUI fail-safe triggered from mouse moving to a corner of the screen. To disable this fail-safe, set pyautogui.FAILSAFE to False. DISABLING FAIL-SAFE IS NOT RECOMMENDED.\"\u001b[0m\u001b[1;33m\u001b[0m\u001b[1;33m\u001b[0m\u001b[0m\n\u001b[0m\u001b[0;32m   1724\u001b[0m         )\n\u001b[0;32m   1725\u001b[0m \u001b[1;33m\u001b[0m\u001b[0m\n",
      "\u001b[1;31mFailSafeException\u001b[0m: PyAutoGUI fail-safe triggered from mouse moving to a corner of the screen. To disable this fail-safe, set pyautogui.FAILSAFE to False. DISABLING FAIL-SAFE IS NOT RECOMMENDED."
     ]
    }
   ],
   "source": [
    "ending_loc = Location(adb, None, 600, 600)\n",
    "for i in range(1):\n",
    "    adb.click('temp_images/fish.png')\n",
    "    time.sleep(2)\n",
    "    adb.click('temp_images/start.png')\n",
    "    now = time.time()\n",
    "    while time.time() - now <60*1:\n",
    "        StartFish.window_capture(work_dir+fishing_image_path)\n",
    "        x, y = StartFish.get_position(work_dir+fishing_image_path)\n",
    "        ring = StartFish.Stage(x, y)\n",
    "        if ring:\n",
    "            adb.swipe(600, 600, 800, 600, 700)\n",
    "    ending_loc.click()\n",
    "    ending_loc.click()"
   ]
  },
  {
   "cell_type": "code",
   "execution_count": null,
   "metadata": {},
   "outputs": [],
   "source": [
    "import win32gui\n",
    "# 根据标题查找窗口\n",
    "title = '文档'\n",
    "hwnd = win32gui.FindWindow(None, title)"
   ]
  },
  {
   "cell_type": "code",
   "execution_count": 20,
   "metadata": {},
   "outputs": [],
   "source": [
    "import win32gui\n",
    "def find_window_by_title(title):\n",
    "    try:\n",
    "        hwnd = win32gui.FindWindow(None, title)\n",
    "        left, top, right, bottom = win32gui.GetWindowRect(hwnd)\n",
    "        return [left, top, right, bottom]\n",
    "    except Exception as ex:\n",
    "        print('error calling win32gui.FindWindow ' + str(ex))\n",
    "        return -1"
   ]
  },
  {
   "cell_type": "code",
   "execution_count": 26,
   "metadata": {},
   "outputs": [],
   "source": [
    "import ctypes\n",
    "# 获取真实的窗口 POS\n",
    "def get_window_rect(title):\n",
    "    hwnd = win32gui.FindWindow(None, title)\n",
    "    try:\n",
    "        f = ctypes.windll.dwmapi.DwmGetWindowAttribute\n",
    "    except WindowsError:\n",
    "        f = None\n",
    "    if f:\n",
    "        rect = ctypes.wintypes.RECT()\n",
    "        f(ctypes.wintypes.HWND(hwnd), ctypes.wintypes.DWORD(9), ctypes.byref(rect), ctypes.sizeof(rect))\n",
    "        return rect.left, rect.top, rect.right, rect.bottom\n",
    "\n",
    "\n"
   ]
  },
  {
   "cell_type": "code",
   "execution_count": 27,
   "metadata": {},
   "outputs": [
    {
     "data": {
      "text/plain": [
       "(640, 396, 1920, 1205)"
      ]
     },
     "execution_count": 27,
     "metadata": {},
     "output_type": "execute_result"
    }
   ],
   "source": [
    "get_window_rect('灵魂潮汐 - MuMu模拟器')"
   ]
  },
  {
   "cell_type": "code",
   "execution_count": 21,
   "metadata": {},
   "outputs": [
    {
     "data": {
      "text/plain": [
       "[427, 264, 1280, 803]"
      ]
     },
     "execution_count": 21,
     "metadata": {},
     "output_type": "execute_result"
    }
   ],
   "source": [
    "find_window_by_title('灵魂潮汐 - MuMu模拟器')"
   ]
  },
  {
   "cell_type": "code",
   "execution_count": 24,
   "metadata": {},
   "outputs": [
    {
     "data": {
      "text/plain": [
       "[11, 9, 1070, 683]"
      ]
     },
     "execution_count": 24,
     "metadata": {},
     "output_type": "execute_result"
    }
   ],
   "source": [
    "find_window_by_title('lhcx')"
   ]
  },
  {
   "cell_type": "code",
   "execution_count": 6,
   "metadata": {},
   "outputs": [],
   "source": [
    "left, top, right, bottom = win32gui.GetWindowRect(3148510)"
   ]
  },
  {
   "cell_type": "code",
   "execution_count": 17,
   "metadata": {},
   "outputs": [
    {
     "data": {
      "text/plain": [
       "345"
      ]
     },
     "execution_count": 17,
     "metadata": {},
     "output_type": "execute_result"
    }
   ],
   "source": [
    "950 - 6"
   ]
  },
  {
   "cell_type": "code",
   "execution_count": 29,
   "metadata": {},
   "outputs": [
    {
     "data": {
      "text/plain": [
       "310"
      ]
     },
     "execution_count": 29,
     "metadata": {},
     "output_type": "execute_result"
    }
   ],
   "source": [
    "import time, threading\n",
    "\n",
    "# 新线程执行的代码:\n",
    "def loop():\n",
    "    print('thread %s is running...' % threading.current_thread().name)\n",
    "    n = 0\n",
    "    while n < 100:\n",
    "        n = n + 1\n",
    "        print('thread %s >>> %s' % (threading.current_thread().name, n))\n",
    "        time.sleep(0.1)\n",
    "    print('thread %s ended.' % threading.current_thread().name)\n",
    "\n",
    "def stop():\n",
    "    time.sleep(4)\n",
    "\n",
    "print('thread %s is running...' % threading.current_thread().name)\n",
    "t = threading.Thread(target=loop, name='LoopThread')\n",
    "t.start()\n",
    "t.join()\n",
    "print('thread %s ended.' % threading.current_thread().name)"
   ]
  },
  {
   "cell_type": "code",
   "execution_count": 59,
   "metadata": {},
   "outputs": [],
   "source": [
    "import cv2\n",
    "\n",
    "def get_location_with_no_sc(temp_rel_path_list, threshold=0.9):\n",
    "        #self.screen_cap()\n",
    "        sp_gray = cv2.imread('temp_images/new_fish/get_new2.png', cv2.COLOR_BGR2BGRA)\n",
    "\n",
    "        if temp_rel_path_list:\n",
    "            temp_abs_path = temp_rel_path_list\n",
    "            temp_gray = cv2.imread(temp_abs_path, cv2.COLOR_BGR2BGRA)\n",
    "\n",
    "            res = cv2.matchTemplate(sp_gray, temp_gray, cv2.TM_CCOEFF_NORMED)\n",
    "            _, max_val, _, max_loc = cv2.minMaxLoc(res)\n",
    "            if max_val < threshold:\n",
    "                return False\n",
    "\n",
    "            return True\n",
    "\n",
    "        return False\n"
   ]
  },
  {
   "cell_type": "code",
   "execution_count": 60,
   "metadata": {},
   "outputs": [
    {
     "data": {
      "text/plain": [
       "True"
      ]
     },
     "execution_count": 60,
     "metadata": {},
     "output_type": "execute_result"
    }
   ],
   "source": [
    "get_location_with_no_sc('temp_images/new_fish/get_new2.png')"
   ]
  },
  {
   "cell_type": "code",
   "execution_count": 10,
   "metadata": {},
   "outputs": [
    {
     "name": "stdout",
     "output_type": "stream",
     "text": [
      "1\n"
     ]
    }
   ],
   "source": [
    "if [21]:\n",
    "    print(1)"
   ]
  },
  {
   "cell_type": "code",
   "execution_count": 14,
   "metadata": {},
   "outputs": [
    {
     "name": "stdout",
     "output_type": "stream",
     "text": [
      "0\n"
     ]
    }
   ],
   "source": [
    "if None:\n",
    "    print(1)\n",
    "else :\n",
    "    print(0)"
   ]
  },
  {
   "cell_type": "code",
   "execution_count": 56,
   "metadata": {},
   "outputs": [
    {
     "data": {
      "text/plain": [
       "583"
      ]
     },
     "execution_count": 56,
     "metadata": {},
     "output_type": "execute_result"
    }
   ],
   "source": [
    "950-367"
   ]
  },
  {
   "cell_type": "code",
   "execution_count": 57,
   "metadata": {},
   "outputs": [
    {
     "data": {
      "text/plain": [
       "593"
      ]
     },
     "execution_count": 57,
     "metadata": {},
     "output_type": "execute_result"
    }
   ],
   "source": [
    "850-257"
   ]
  },
  {
   "cell_type": "code",
   "execution_count": 50,
   "metadata": {},
   "outputs": [
    {
     "data": {
      "text/plain": [
       "723"
      ]
     },
     "execution_count": 50,
     "metadata": {},
     "output_type": "execute_result"
    }
   ],
   "source": [
    "1090-367"
   ]
  },
  {
   "cell_type": "code",
   "execution_count": 51,
   "metadata": {},
   "outputs": [
    {
     "data": {
      "text/plain": [
       "633"
      ]
     },
     "execution_count": 51,
     "metadata": {},
     "output_type": "execute_result"
    }
   ],
   "source": [
    "890-257"
   ]
  },
  {
   "cell_type": "code",
   "execution_count": 53,
   "metadata": {},
   "outputs": [
    {
     "data": {
      "text/plain": [
       "'d:/learn/lhcx'"
      ]
     },
     "execution_count": 53,
     "metadata": {},
     "output_type": "execute_result"
    }
   ],
   "source": [
    "from common import PathUtils\n",
    "PathUtils.get_work_dir()"
   ]
  },
  {
   "cell_type": "code",
   "execution_count": null,
   "metadata": {},
   "outputs": [],
   "source": [
    "563~723      593 ~633"
   ]
  },
  {
   "cell_type": "code",
   "execution_count": 54,
   "metadata": {},
   "outputs": [
    {
     "data": {
      "text/plain": [
       "169"
      ]
     },
     "execution_count": 54,
     "metadata": {},
     "output_type": "execute_result"
    }
   ],
   "source": [
    "732-563"
   ]
  },
  {
   "cell_type": "code",
   "execution_count": 55,
   "metadata": {},
   "outputs": [
    {
     "data": {
      "text/plain": [
       "40"
      ]
     },
     "execution_count": 55,
     "metadata": {},
     "output_type": "execute_result"
    }
   ],
   "source": [
    "633-593"
   ]
  },
  {
   "cell_type": "code",
   "execution_count": 3,
   "metadata": {},
   "outputs": [
    {
     "name": "stdout",
     "output_type": "stream",
     "text": [
      "{1}\n"
     ]
    }
   ],
   "source": [
    "print('{%d}' % 1)"
   ]
  },
  {
   "cell_type": "code",
   "execution_count": null,
   "metadata": {},
   "outputs": [],
   "source": []
  }
 ],
 "metadata": {
  "kernelspec": {
   "display_name": "Python 3.7.11 ('tf27')",
   "language": "python",
   "name": "python3"
  },
  "language_info": {
   "codemirror_mode": {
    "name": "ipython",
    "version": 3
   },
   "file_extension": ".py",
   "mimetype": "text/x-python",
   "name": "python",
   "nbconvert_exporter": "python",
   "pygments_lexer": "ipython3",
   "version": "3.7.11"
  },
  "orig_nbformat": 4,
  "vscode": {
   "interpreter": {
    "hash": "ae7395306d7dbc2180fb62a3d0385ca74246dbe138266eed3710cf1307e5c1a6"
   }
  }
 },
 "nbformat": 4,
 "nbformat_minor": 2
}
